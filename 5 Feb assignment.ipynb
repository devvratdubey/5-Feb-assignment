{
 "cells": [
  {
   "cell_type": "markdown",
   "id": "bc65a637-5287-45e0-87de-ed9713e75aa7",
   "metadata": {},
   "source": [
    "Q1 A\n",
    "Class is a detailed description, the definition, and the template of what an object will be.\n",
    "But it is not the object itself. Also, what we call, a class is the building block that leads to Object-Oriented Programming. It is a user-defined data type, that holds its own data members and member functions, which can be accessed and used by creating an instance of that class. It is the blueprint of any object. Once we have written a class and defined it, we can use it to create as many objects based on that class as we want."
   ]
  },
  {
   "cell_type": "code",
   "execution_count": 1,
   "id": "bd441aef-9fed-490a-b651-22ae2a11ea63",
   "metadata": {},
   "outputs": [],
   "source": [
    "class person:  #peron is the class\n",
    "    def __init__(self,name,age,city):\n",
    "        self.name=name\n",
    "        self.age=age\n",
    "        self.city=city"
   ]
  },
  {
   "cell_type": "code",
   "execution_count": 2,
   "id": "6d50b2d7-e001-4da5-aa6c-f3e28c2e86db",
   "metadata": {},
   "outputs": [],
   "source": [
    "p1=person(\"devvrat\",23,\"mumbai\")  #p1 is the object of class of person"
   ]
  },
  {
   "cell_type": "code",
   "execution_count": 3,
   "id": "3ec0aaa2-a828-4e90-b446-d0fe39c99b4a",
   "metadata": {},
   "outputs": [
    {
     "data": {
      "text/plain": [
       "'devvrat'"
      ]
     },
     "execution_count": 3,
     "metadata": {},
     "output_type": "execute_result"
    }
   ],
   "source": [
    "p1.name"
   ]
  },
  {
   "cell_type": "code",
   "execution_count": 4,
   "id": "a9db16f6-30bf-4bd8-9f94-e9e2fe0bacb8",
   "metadata": {},
   "outputs": [
    {
     "data": {
      "text/plain": [
       "23"
      ]
     },
     "execution_count": 4,
     "metadata": {},
     "output_type": "execute_result"
    }
   ],
   "source": [
    "p1.age"
   ]
  },
  {
   "cell_type": "code",
   "execution_count": 5,
   "id": "59402db4-bafd-444f-a73a-4a8d01e4e1c5",
   "metadata": {},
   "outputs": [
    {
     "data": {
      "text/plain": [
       "'mumbai'"
      ]
     },
     "execution_count": 5,
     "metadata": {},
     "output_type": "execute_result"
    }
   ],
   "source": [
    "p1.city"
   ]
  },
  {
   "cell_type": "code",
   "execution_count": 6,
   "id": "3d4d8951-ac84-410a-a653-910c9e36f1d7",
   "metadata": {},
   "outputs": [],
   "source": [
    "p2=person(\"satyavrat\",16,\"delhi\") #now p2 is the object of class person"
   ]
  },
  {
   "cell_type": "code",
   "execution_count": 7,
   "id": "f2005a7a-423b-456b-9cd8-deaccc461b42",
   "metadata": {},
   "outputs": [
    {
     "data": {
      "text/plain": [
       "16"
      ]
     },
     "execution_count": 7,
     "metadata": {},
     "output_type": "execute_result"
    }
   ],
   "source": [
    "p2.age"
   ]
  },
  {
   "cell_type": "markdown",
   "id": "a2356873-7f14-4ce0-aff6-08d848135454",
   "metadata": {},
   "source": [
    "####q2answer\n",
    "\n",
    "There are four pillars:\n",
    "\n",
    "Encapsulation\n",
    "\n",
    "Inheritance\n",
    "\n",
    "Polymorphism\n",
    "\n",
    "Abstraction"
   ]
  },
  {
   "cell_type": "markdown",
   "id": "9786b0d2-cf09-4f0a-b509-5e4a71cb9b2d",
   "metadata": {},
   "source": [
    "Encapsulation:To enclose something in or as if in a capsule.\n",
    "\n",
    "It describes the idea of wrapping data and the methods that work on data within one unit. \n",
    "\n",
    "This puts restrictions on accessing variables and methods directly and can prevent the accidental modification of data.\n",
    "\n",
    "To prevent accidental change, an object’s variable can only be changed by an object’s method. \n",
    "\n",
    "Those types of variables are known as private variables.\n",
    "\n"
   ]
  },
  {
   "cell_type": "code",
   "execution_count": 9,
   "id": "9c90b9d5-9519-4221-bbed-0c9e4aede708",
   "metadata": {},
   "outputs": [],
   "source": [
    "#Encapsulation\n",
    "class animal:\n",
    "    def __init__(self,animal,sound):\n",
    "        self.sound=sound\n",
    "        self.animal=animal\n",
    "    def saying(self):\n",
    "        print(f\"{self.animal} says {self.sound}\")\n"
   ]
  },
  {
   "cell_type": "code",
   "execution_count": 10,
   "id": "0d8fc494-f5dd-4a9e-bf09-0ff6fc0cd2b5",
   "metadata": {},
   "outputs": [],
   "source": [
    "c=animal(\"cat\",\"meow\")"
   ]
  },
  {
   "cell_type": "code",
   "execution_count": 11,
   "id": "26155dcf-8e2e-46c5-a166-836a9fc20806",
   "metadata": {},
   "outputs": [
    {
     "data": {
      "text/plain": [
       "'meow'"
      ]
     },
     "execution_count": 11,
     "metadata": {},
     "output_type": "execute_result"
    }
   ],
   "source": [
    "c.sound"
   ]
  },
  {
   "cell_type": "code",
   "execution_count": 12,
   "id": "affa87f9-220c-4ed5-9803-63512e715807",
   "metadata": {},
   "outputs": [
    {
     "data": {
      "text/plain": [
       "'cat'"
      ]
     },
     "execution_count": 12,
     "metadata": {},
     "output_type": "execute_result"
    }
   ],
   "source": [
    "c.animal"
   ]
  },
  {
   "cell_type": "code",
   "execution_count": 13,
   "id": "7c2ee64d-ad4b-4769-80fd-f319bbd66abf",
   "metadata": {},
   "outputs": [
    {
     "name": "stdout",
     "output_type": "stream",
     "text": [
      "cat says meow\n"
     ]
    }
   ],
   "source": [
    "c.saying()"
   ]
  },
  {
   "cell_type": "code",
   "execution_count": 14,
   "id": "3a0639b3-87d6-43f3-bacc-241574225bcc",
   "metadata": {},
   "outputs": [],
   "source": [
    "c.sound=\"bowbow\""
   ]
  },
  {
   "cell_type": "code",
   "execution_count": 15,
   "id": "bb713808-824e-4642-9639-c97594941b72",
   "metadata": {},
   "outputs": [
    {
     "name": "stdout",
     "output_type": "stream",
     "text": [
      "cat says bowbow\n"
     ]
    }
   ],
   "source": [
    "c.saying()# this class is not encapsulated values can be changed"
   ]
  },
  {
   "cell_type": "code",
   "execution_count": 16,
   "id": "185333f3-e4ba-4c83-bc20-2b114cdf65bb",
   "metadata": {},
   "outputs": [],
   "source": [
    "class animal:\n",
    "    def __init__(self,animal,sound):\n",
    "        self.__sound=sound\n",
    "        self.__animal=animal\n",
    "    def saying(self):\n",
    "        print(f\"{self.__animal} says {self.__sound}\")"
   ]
  },
  {
   "cell_type": "code",
   "execution_count": 17,
   "id": "0af339a0-4151-46b1-99a8-af50281bdf89",
   "metadata": {},
   "outputs": [],
   "source": [
    "c=animal(\"cat\",\"meow\")"
   ]
  },
  {
   "cell_type": "code",
   "execution_count": 18,
   "id": "cc16b901-dfd8-4d2b-b49b-a0efe6a45c1d",
   "metadata": {},
   "outputs": [
    {
     "name": "stdout",
     "output_type": "stream",
     "text": [
      "cat says meow\n"
     ]
    }
   ],
   "source": [
    "c.saying()"
   ]
  },
  {
   "cell_type": "code",
   "execution_count": 19,
   "id": "9cd29c58-86c8-486e-85c1-06bb14f56468",
   "metadata": {},
   "outputs": [
    {
     "data": {
      "text/plain": [
       "<bound method animal.saying of <__main__.animal object at 0x7f14e9112710>>"
      ]
     },
     "execution_count": 19,
     "metadata": {},
     "output_type": "execute_result"
    }
   ],
   "source": [
    "c.saying #now it is encapsulted "
   ]
  },
  {
   "cell_type": "markdown",
   "id": "61b90bda-0881-49aa-956e-7fe5aa242ed8",
   "metadata": {},
   "source": [
    "inheritance allows us to define a class that inherits methods and properties from another class\n",
    "\n",
    "The base class is called the parent class, and the derived class is known as a child."
   ]
  },
  {
   "cell_type": "code",
   "execution_count": 20,
   "id": "15b52f3e-e9ab-46a7-a965-143c75c4b483",
   "metadata": {},
   "outputs": [],
   "source": [
    "#INHERITANCE\n",
    "class family:\n",
    "    def __init__(self,familyname,noofmembers,country):\n",
    "        self.familyname=familyname\n",
    "        self.noofmembers=noofmembers\n",
    "        self.country=country\n",
    "    def membersays(self):\n",
    "        print(f\"I am from {self.familyname} family and there are {self.noofmembers} members in my family\")"
   ]
  },
  {
   "cell_type": "code",
   "execution_count": 21,
   "id": "198ad702-2814-49d7-99c5-b9edf6588879",
   "metadata": {},
   "outputs": [],
   "source": [
    "p1=family(\"dubey\",5,\"india\")"
   ]
  },
  {
   "cell_type": "code",
   "execution_count": 22,
   "id": "f051d3a4-0fe0-477d-852f-e9f57cd320c6",
   "metadata": {},
   "outputs": [
    {
     "data": {
      "text/plain": [
       "'india'"
      ]
     },
     "execution_count": 22,
     "metadata": {},
     "output_type": "execute_result"
    }
   ],
   "source": [
    "p1.country"
   ]
  },
  {
   "cell_type": "code",
   "execution_count": 23,
   "id": "a8392012-c91a-4fac-aec4-3f0a1bb7be56",
   "metadata": {},
   "outputs": [
    {
     "name": "stdout",
     "output_type": "stream",
     "text": [
      "I am from dubey family and there are 5 members in my family\n"
     ]
    }
   ],
   "source": [
    "p1.membersays()"
   ]
  },
  {
   "cell_type": "code",
   "execution_count": 24,
   "id": "7dab2d9b-66b5-46e3-9f11-9281be735472",
   "metadata": {},
   "outputs": [],
   "source": [
    "class familydetailed(family):\n",
    "    def whichcountry(self):\n",
    "        print(f\"My family members are native of {self.country}\")"
   ]
  },
  {
   "cell_type": "code",
   "execution_count": 25,
   "id": "35a7dc11-11e5-4714-bbd2-fd22c5a2f7d6",
   "metadata": {},
   "outputs": [],
   "source": [
    "p2=familydetailed(\"dubey\",5,\"india\")"
   ]
  },
  {
   "cell_type": "code",
   "execution_count": 26,
   "id": "36148786-f70a-4dbe-b2d2-cfdfd2e03a12",
   "metadata": {},
   "outputs": [
    {
     "name": "stdout",
     "output_type": "stream",
     "text": [
      "My family members are native of india\n"
     ]
    }
   ],
   "source": [
    "p2.whichcountry()"
   ]
  },
  {
   "cell_type": "markdown",
   "id": "ca771948-61c2-49f8-a58a-200ff1ab9b51",
   "metadata": {},
   "source": [
    " polymorphism refers to the use of a single method/operator to represent different types in different scenarios.\n",
    " \n",
    " Python can use multiple classes in the same way, through polymorphism. To serve this purpose, we can create a loop that iterates through a tuple of objects. This will allow us to call methods without looking at the class to which the object points."
   ]
  },
  {
   "cell_type": "code",
   "execution_count": 27,
   "id": "4b915db6-e0db-4792-bf5f-b7cf0a34aa2c",
   "metadata": {},
   "outputs": [],
   "source": [
    "#polymorphism\n",
    "class test1:\n",
    "    def testmethod(self):\n",
    "        print(\"this testmethod is from test1\")\n",
    "class test2:\n",
    "    def testmethod(self):\n",
    "        print(\"this testmethod is from test2\")\n",
    "class test3:\n",
    "    def testmethod(self):\n",
    "        print(\"this testmethod is from test3\")\n",
    "        \n"
   ]
  },
  {
   "cell_type": "code",
   "execution_count": 28,
   "id": "553b6371-d04c-4670-b4aa-591a068a1cec",
   "metadata": {},
   "outputs": [],
   "source": [
    "a=test1()"
   ]
  },
  {
   "cell_type": "code",
   "execution_count": 29,
   "id": "11e009dc-4576-4f32-824d-398e59550881",
   "metadata": {},
   "outputs": [],
   "source": [
    "b=test2()\n",
    "c=test3()"
   ]
  },
  {
   "cell_type": "code",
   "execution_count": 30,
   "id": "1363d7ed-2c46-463e-9a65-1d43b6494f78",
   "metadata": {},
   "outputs": [
    {
     "name": "stdout",
     "output_type": "stream",
     "text": [
      "this testmethod is from test1\n"
     ]
    }
   ],
   "source": [
    "a.testmethod()"
   ]
  },
  {
   "cell_type": "code",
   "execution_count": 33,
   "id": "1a5b81aa-c4c8-4dc7-bd3e-e0cd8965db8b",
   "metadata": {},
   "outputs": [
    {
     "name": "stdout",
     "output_type": "stream",
     "text": [
      "this testmethod is from test2\n"
     ]
    }
   ],
   "source": [
    "b.testmethod()"
   ]
  },
  {
   "cell_type": "code",
   "execution_count": 34,
   "id": "0a1a5d09-d9b1-486b-b604-71fe6e06c79f",
   "metadata": {},
   "outputs": [
    {
     "name": "stdout",
     "output_type": "stream",
     "text": [
      "this testmethod is from test1\n",
      "this testmethod is from test2\n",
      "this testmethod is from test3\n"
     ]
    }
   ],
   "source": [
    "l=[a,b,c]\n",
    "for i in l:\n",
    "    i.testmethod()\n",
    "    \n",
    "    "
   ]
  },
  {
   "cell_type": "markdown",
   "id": "9528118c-d4ac-4e93-817b-46d0ae71940a",
   "metadata": {},
   "source": [
    "abstraction hides the internal implementations of a process or method from the user\n",
    "\n",
    "Abstraction is a bit different from the other pillars. Python does not grant abstract classes by default. Instead, Python comes with a module that fits the base for Abstract Base classes (ABC). A method becomes abstract when decorated with the keyword"
   ]
  },
  {
   "cell_type": "code",
   "execution_count": 35,
   "id": "d0799ec8-43b2-4c02-b97e-c4eb9f04b37f",
   "metadata": {},
   "outputs": [],
   "source": [
    "#ABSTRACT METHOD\n",
    "import abc\n",
    "class general:\n",
    "    @abc.abstractmethod\n",
    "    def studentmarks(self):\n",
    "        pass\n",
    "    @abc.abstractmethod\n",
    "    def studentdetail(self):\n",
    "        pass\n",
    "    @abc.abstractmethod\n",
    "    def studentdiversity(self):\n",
    "        pass\n"
   ]
  },
  {
   "cell_type": "code",
   "execution_count": 36,
   "id": "11dac3f8-4715-450f-9ff7-9c0250a1a9b3",
   "metadata": {},
   "outputs": [],
   "source": [
    "class datascience(general):\n",
    "    def studentdiversity(self):\n",
    "        print(\"students from all background\")\n",
    "    def studentmarks(self):\n",
    "        print(\"first class marks\")"
   ]
  },
  {
   "cell_type": "code",
   "execution_count": 37,
   "id": "d70df25e-c8cc-4159-a00d-d8e817efdb40",
   "metadata": {},
   "outputs": [],
   "source": [
    "class mechanical(general):\n",
    "    def studentdiversity(self):\n",
    "        print(\"mostly boys\")\n",
    "    def studentdetail(self):\n",
    "        print(\"rough type of students\")"
   ]
  },
  {
   "cell_type": "code",
   "execution_count": 38,
   "id": "b697dfce-e77c-4fd1-b61a-ce81fb14875b",
   "metadata": {},
   "outputs": [],
   "source": [
    "d=datascience()"
   ]
  },
  {
   "cell_type": "code",
   "execution_count": 39,
   "id": "bfe44cde-3f6b-434a-879f-df9761867975",
   "metadata": {},
   "outputs": [
    {
     "name": "stdout",
     "output_type": "stream",
     "text": [
      "students from all background\n"
     ]
    }
   ],
   "source": [
    "d.studentdiversity()"
   ]
  },
  {
   "cell_type": "code",
   "execution_count": 40,
   "id": "3e2e486e-afc8-4e4e-bf50-6a219448ccfb",
   "metadata": {},
   "outputs": [],
   "source": [
    "m=mechanical()"
   ]
  },
  {
   "cell_type": "code",
   "execution_count": 41,
   "id": "021127ae-5391-4b3e-88a3-f5320dba75fc",
   "metadata": {},
   "outputs": [
    {
     "name": "stdout",
     "output_type": "stream",
     "text": [
      "mostly boys\n"
     ]
    }
   ],
   "source": [
    "m.studentdiversity()"
   ]
  },
  {
   "cell_type": "markdown",
   "id": "11bb5932-719e-403f-ab26-c11e066db66a",
   "metadata": {},
   "source": [
    "q3answer\n",
    "\n",
    "In an object-oriented approach, the __init__ method is the Python equivalent of the C++ constructor. Every time an object is created from a class, the __init__function is called. The __init__ method only allows the class to initialize the object's attributes. It is only used within classes\n",
    "\n",
    "Let’s say you are making a program that stores information about cars. You will create a class of name Car and then create objects of different cars. When creating a class object, we pass different things to it. In the case of cars, it will be company model, year of manufacture, etc. So, inside the class, we need a function that can assign all the arguments passed while creating the object to the newly created object. Or you might want to print something whenever a new car is added to your program.\n",
    "\n",
    "There is a method called __init__() for this task. This method is called automatically whenever a new object of a class is created. This type of function is also known as the constructor function. A constructor function is a function that is called every time a new class object is created."
   ]
  },
  {
   "cell_type": "code",
   "execution_count": 42,
   "id": "0de4fcd0-002a-4a0b-8cb6-557784df2bf1",
   "metadata": {},
   "outputs": [],
   "source": [
    "class car:\n",
    "    def __init__(self,name):\n",
    "        self.name=name\n",
    "        print(\"i ran first\")\n",
    "    def product(self):\n",
    "        print(\"i ran second\")\n",
    "        return (\"name \"+self.name)"
   ]
  },
  {
   "cell_type": "code",
   "execution_count": 43,
   "id": "beeff226-adfc-4a2f-ade4-a1d6b51e8e0a",
   "metadata": {},
   "outputs": [
    {
     "name": "stdout",
     "output_type": "stream",
     "text": [
      "i ran first\n"
     ]
    }
   ],
   "source": [
    "c=car(\"audi\")"
   ]
  },
  {
   "cell_type": "code",
   "execution_count": 44,
   "id": "97510dce-176d-4e42-a65f-2d0205d1db92",
   "metadata": {},
   "outputs": [
    {
     "name": "stdout",
     "output_type": "stream",
     "text": [
      "i ran second\n"
     ]
    },
    {
     "data": {
      "text/plain": [
       "'name audi'"
      ]
     },
     "execution_count": 44,
     "metadata": {},
     "output_type": "execute_result"
    }
   ],
   "source": [
    "c.product()"
   ]
  },
  {
   "cell_type": "markdown",
   "id": "748e0d2a-bc30-4a66-abb5-f1e1c8cb9b71",
   "metadata": {},
   "source": [
    "You can see in the output the order of print statements that __init__ is called first."
   ]
  },
  {
   "cell_type": "markdown",
   "id": "4f8a41f0-b6ca-4511-a615-4e7b6f3dbd5c",
   "metadata": {},
   "source": [
    "q4 aanswer\n",
    "\n",
    "self represents the instance of the class. By using the “self”  we can access the attributes and methods of the class in python. It binds the attributes with the given arguments.\n",
    "\n",
    "Self is the first argument to be passed in Constructor and Instance Method.\n",
    "\n"
   ]
  },
  {
   "cell_type": "markdown",
   "id": "6b7fa016-5139-47ec-bb5f-b10d8c191344",
   "metadata": {},
   "source": [
    "q5 answer\n",
    "\n",
    "Inheritance in Python\n",
    "\n",
    "It is a mechanism that allows you to create a hierarchy of classes that share a set of properties and methods by deriving a class from another class. Inheritance is the capability of one class to derive or inherit the properties from another class. \n",
    "\n",
    "Types of Inheritance in Python\n",
    "\n",
    "\n",
    "Types of Inheritance depend upon the number of child and parent classes involved.\n",
    "\n",
    "\n",
    "There are four types of inheritance in Python:\n",
    "\n",
    "Single inheritance\n",
    "\n",
    "Multiple Inheritance\n",
    "\n",
    "Multilevel Inheritance\n",
    "\n",
    "Hierarchical inheritance"
   ]
  },
  {
   "cell_type": "markdown",
   "id": "f1444d67-71d5-44e4-817a-d5cc47d93aba",
   "metadata": {},
   "source": [
    "Single inheritance enables a derived class to inherit properties from a single parent class, thus enabling code reusability and the addition of new features to existing code"
   ]
  },
  {
   "cell_type": "code",
   "execution_count": 47,
   "id": "50cbc8bd-f36f-460d-a152-b3d6416e0ddb",
   "metadata": {},
   "outputs": [],
   "source": [
    "class parent:\n",
    "    def func1(self):\n",
    "        print(\"This function is from parent class\")\n",
    "class child(parent):\n",
    "    def func2(self):\n",
    "        print(\"this function is from child class\")"
   ]
  },
  {
   "cell_type": "code",
   "execution_count": 48,
   "id": "e6bf4115-4f82-4919-ac11-8e94c50cdca3",
   "metadata": {},
   "outputs": [],
   "source": [
    "c=child()"
   ]
  },
  {
   "cell_type": "code",
   "execution_count": 49,
   "id": "fa6644fb-6fc6-45f6-ae8a-fbe8ba8a1bc3",
   "metadata": {},
   "outputs": [
    {
     "name": "stdout",
     "output_type": "stream",
     "text": [
      "This function is from parent class\n"
     ]
    }
   ],
   "source": [
    "c.func1()"
   ]
  },
  {
   "cell_type": "code",
   "execution_count": 50,
   "id": "73ee7484-2a5e-482a-b6e5-42fb447c5c40",
   "metadata": {},
   "outputs": [
    {
     "name": "stdout",
     "output_type": "stream",
     "text": [
      "this function is from child class\n"
     ]
    }
   ],
   "source": [
    "c.func2()"
   ]
  },
  {
   "cell_type": "markdown",
   "id": "5dcc9b76-ce98-4350-90bf-f0d91f112bad",
   "metadata": {},
   "source": [
    "Multiple Inheritance: \n",
    "\n",
    "\n",
    "When a class can be derived from more than one base class this type of inheritance is called multiple inheritances. In multiple inheritances, all the features of the base classes are inherited into the derived class. \n",
    "\n"
   ]
  },
  {
   "cell_type": "code",
   "execution_count": 51,
   "id": "12b86e15-7d03-4350-8ab0-92d9b42e555a",
   "metadata": {},
   "outputs": [],
   "source": [
    "class father:\n",
    "    def fathersaying(self):\n",
    "        print(\" i am  his father\")\n",
    "class mother:\n",
    "    def mothersaying(self):\n",
    "        print(\"i am his mother\")\n",
    "class son(father,mother):\n",
    "    def sonsaying(self):\n",
    "        print(\"I am there son\")"
   ]
  },
  {
   "cell_type": "code",
   "execution_count": 52,
   "id": "bd0cfee3-2330-4ebc-ac64-6bde5aaa3223",
   "metadata": {},
   "outputs": [],
   "source": [
    "s=son()"
   ]
  },
  {
   "cell_type": "code",
   "execution_count": 54,
   "id": "ed393ef5-0843-4c5c-8948-adcf051e5193",
   "metadata": {},
   "outputs": [
    {
     "name": "stdout",
     "output_type": "stream",
     "text": [
      " i am  his father\n"
     ]
    }
   ],
   "source": [
    "s.fathersaying()"
   ]
  },
  {
   "cell_type": "code",
   "execution_count": 55,
   "id": "ae8cbf10-21b7-41c3-93cd-9aa2b859b024",
   "metadata": {},
   "outputs": [
    {
     "name": "stdout",
     "output_type": "stream",
     "text": [
      "i am his mother\n"
     ]
    }
   ],
   "source": [
    "s.mothersaying()"
   ]
  },
  {
   "cell_type": "code",
   "execution_count": 56,
   "id": "30315bb6-4c6e-4eca-b6bd-755519c898ed",
   "metadata": {},
   "outputs": [
    {
     "name": "stdout",
     "output_type": "stream",
     "text": [
      "I am there son\n"
     ]
    }
   ],
   "source": [
    "s.sonsaying()"
   ]
  },
  {
   "cell_type": "markdown",
   "id": "9f6bb485-5157-4c98-a9f6-4bae309b780e",
   "metadata": {},
   "source": [
    "Multilevel Inheritance :\n",
    "In multilevel inheritance, features of the base class and the derived class are further inherited into the new derived class."
   ]
  },
  {
   "cell_type": "code",
   "execution_count": 57,
   "id": "823de06d-1360-4f94-bc75-40807a5ae558",
   "metadata": {},
   "outputs": [],
   "source": [
    "class grandfather:\n",
    "    def __init__(self,gname,country,age):\n",
    "        self.name=gname\n",
    "        self.age=age\n",
    "        self.country=country\n",
    "class grandfatherdetails(grandfather):\n",
    "    def whichcountry(self):\n",
    "        print(f\"My grandfather {self.name} is from {self.country}\")\n",
    "class grandfatherage(grandfatherdetails):\n",
    "    def agesaying(self):\n",
    "        print(f\"My grandfathers age is {self.age}\")"
   ]
  },
  {
   "cell_type": "code",
   "execution_count": 58,
   "id": "b424c76b-60d2-4abc-a0ec-81b0f4e4b1b8",
   "metadata": {},
   "outputs": [],
   "source": [
    "c=grandfatherage(\"rajendra\",\"india\",50)"
   ]
  },
  {
   "cell_type": "code",
   "execution_count": 59,
   "id": "3963c180-1351-42b9-92d2-26bbdcc3bda9",
   "metadata": {},
   "outputs": [
    {
     "name": "stdout",
     "output_type": "stream",
     "text": [
      "My grandfather rajendra is from india\n"
     ]
    }
   ],
   "source": [
    "c.whichcountry()"
   ]
  },
  {
   "cell_type": "code",
   "execution_count": 60,
   "id": "9fc73e25-9bf5-4302-aee2-81906b936559",
   "metadata": {},
   "outputs": [
    {
     "name": "stdout",
     "output_type": "stream",
     "text": [
      "My grandfathers age is 50\n"
     ]
    }
   ],
   "source": [
    "c.agesaying()"
   ]
  },
  {
   "cell_type": "code",
   "execution_count": 61,
   "id": "5f3b3cc1-6ddc-4bee-98f7-6a604ed796b9",
   "metadata": {},
   "outputs": [
    {
     "data": {
      "text/plain": [
       "'rajendra'"
      ]
     },
     "execution_count": 61,
     "metadata": {},
     "output_type": "execute_result"
    }
   ],
   "source": [
    "c.name"
   ]
  },
  {
   "cell_type": "markdown",
   "id": "6c3e227a-2a56-448c-bad5-53534445ed41",
   "metadata": {},
   "source": [
    "Heirarchical inheritance:When more than one derived class are created from a single base this type of inheritance is called hierarchical inheritance"
   ]
  },
  {
   "cell_type": "code",
   "execution_count": 62,
   "id": "3a63ceb9-7819-4835-8bd3-b7c770a08ef2",
   "metadata": {},
   "outputs": [],
   "source": [
    "class parent:\n",
    "    def func1(self):\n",
    "        print(\"this funciton is from parent class\")\n",
    "class child1(parent):\n",
    "    def func2(self):\n",
    "        print(\"this function is from child1 class\")\n",
    "class child2(parent):\n",
    "    def func3(self):\n",
    "        print(\"this function is from child2 class\")"
   ]
  },
  {
   "cell_type": "code",
   "execution_count": 63,
   "id": "06f71e7b-c0e9-4b61-983c-2bf0fcb65eb3",
   "metadata": {},
   "outputs": [],
   "source": [
    "c1=child1()"
   ]
  },
  {
   "cell_type": "code",
   "execution_count": 64,
   "id": "39832866-1027-4829-885e-a21f78ec6f7e",
   "metadata": {},
   "outputs": [
    {
     "name": "stdout",
     "output_type": "stream",
     "text": [
      "this funciton is from parent class\n"
     ]
    }
   ],
   "source": [
    "c1.func1()"
   ]
  },
  {
   "cell_type": "code",
   "execution_count": 65,
   "id": "1f6096d1-2111-4e41-9e9d-19645b8e8a9e",
   "metadata": {},
   "outputs": [
    {
     "name": "stdout",
     "output_type": "stream",
     "text": [
      "this function is from child1 class\n"
     ]
    }
   ],
   "source": [
    "c1.func2()"
   ]
  },
  {
   "cell_type": "code",
   "execution_count": 66,
   "id": "f6fceac8-f38f-424a-9f53-bf62e0bde155",
   "metadata": {},
   "outputs": [],
   "source": [
    "c2=child2()"
   ]
  },
  {
   "cell_type": "code",
   "execution_count": 67,
   "id": "b13cd5e7-0d44-42a6-badb-deee1965434b",
   "metadata": {},
   "outputs": [
    {
     "name": "stdout",
     "output_type": "stream",
     "text": [
      "this funciton is from parent class\n"
     ]
    }
   ],
   "source": [
    "c2.func1()"
   ]
  },
  {
   "cell_type": "code",
   "execution_count": 68,
   "id": "62ca020f-46df-4182-8d6c-a2135a42b60e",
   "metadata": {},
   "outputs": [
    {
     "name": "stdout",
     "output_type": "stream",
     "text": [
      "this function is from child2 class\n"
     ]
    }
   ],
   "source": [
    "c2.func3()"
   ]
  },
  {
   "cell_type": "code",
   "execution_count": null,
   "id": "bdec724a-68e9-4cf2-8880-60d54dc343d3",
   "metadata": {},
   "outputs": [],
   "source": []
  }
 ],
 "metadata": {
  "kernelspec": {
   "display_name": "Python 3 (ipykernel)",
   "language": "python",
   "name": "python3"
  },
  "language_info": {
   "codemirror_mode": {
    "name": "ipython",
    "version": 3
   },
   "file_extension": ".py",
   "mimetype": "text/x-python",
   "name": "python",
   "nbconvert_exporter": "python",
   "pygments_lexer": "ipython3",
   "version": "3.10.8"
  }
 },
 "nbformat": 4,
 "nbformat_minor": 5
}
